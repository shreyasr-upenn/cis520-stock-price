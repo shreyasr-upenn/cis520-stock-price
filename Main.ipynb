{
 "cells": [
  {
   "cell_type": "code",
   "execution_count": 1,
   "metadata": {},
   "outputs": [],
   "source": [
    "from libraries import *\n",
    "from datasets import *\n",
    "from models import *"
   ]
  },
  {
   "cell_type": "code",
   "execution_count": 2,
   "metadata": {},
   "outputs": [
    {
     "name": "stdout",
     "output_type": "stream",
     "text": [
      "[*********************100%***********************]  1 of 1 completed\n",
      "[*********************100%***********************]  1 of 1 completed\n",
      "[*********************100%***********************]  1 of 1 completed\n"
     ]
    }
   ],
   "source": [
    "new_aapl_dataset_1 = dataset_to_csv_1('AAPL')\n",
    "new_jpm_dataset_1 = dataset_to_csv_1('JPM')\n",
    "new_tsla_dataset_1 = dataset_to_csv_1('TSLA')\n"
   ]
  },
  {
   "cell_type": "code",
   "execution_count": null,
   "metadata": {},
   "outputs": [],
   "source": [
    "X_train, X_test, y_train, y_test,test_date = test_train_splitting_scaling(new_aapl_dataset_1)\n",
    "LinearRegressionModel('AAPL',X_train, y_train, X_test, y_test,test_date)"
   ]
  },
  {
   "cell_type": "code",
   "execution_count": null,
   "metadata": {},
   "outputs": [],
   "source": [
    "X_train, X_test, y_train, y_test,test_date = test_train_splitting_scaling(new_jpm_dataset_1)\n",
    "LinearRegressionModel('JPM',X_train, y_train, X_test, y_test,test_date)"
   ]
  },
  {
   "cell_type": "code",
   "execution_count": null,
   "metadata": {},
   "outputs": [],
   "source": [
    "X_train, X_test, y_train, y_test,test_date = test_train_splitting_scaling(new_tsla_dataset_1)\n",
    "LinearRegressionModel('TSLA',X_train, y_train, X_test, y_test,test_date)"
   ]
  },
  {
   "cell_type": "code",
   "execution_count": null,
   "metadata": {},
   "outputs": [],
   "source": [
    "X_train, X_test, y_train, y_test,test_date = test_train_splitting_scaling(new_aapl_dataset_1)\n",
    "RFRModel('AAPL',X_train, y_train, X_test, y_test,test_date)"
   ]
  },
  {
   "cell_type": "code",
   "execution_count": null,
   "metadata": {},
   "outputs": [],
   "source": [
    "X_train, X_test, y_train, y_test,test_date = test_train_splitting_scaling(new_tsla_dataset_1)\n",
    "RFRModel('TSLA',X_train, y_train, X_test, y_test,test_date)"
   ]
  },
  {
   "cell_type": "code",
   "execution_count": null,
   "metadata": {},
   "outputs": [],
   "source": [
    "X_train, X_test, y_train, y_test,test_date = test_train_splitting_scaling(new_jpm_dataset_1)\n",
    "RFRModel('JPM',X_train, y_train, X_test, y_test,test_date)"
   ]
  },
  {
   "cell_type": "code",
   "execution_count": 3,
   "metadata": {},
   "outputs": [
    {
     "name": "stderr",
     "output_type": "stream",
     "text": [
      "C:\\Users\\shrey\\AppData\\Local\\Programs\\PythonCodingPack\\lib\\site-packages\\torch\\nn\\modules\\loss.py:520: UserWarning: Using a target size (torch.Size([25])) that is different to the input size (torch.Size([25, 1])). This will likely lead to incorrect results due to broadcasting. Please ensure they have the same size.\n",
      "  return F.mse_loss(input, target, reduction=self.reduction)\n",
      "C:\\Users\\shrey\\AppData\\Local\\Programs\\PythonCodingPack\\lib\\site-packages\\torch\\nn\\modules\\loss.py:520: UserWarning: Using a target size (torch.Size([10])) that is different to the input size (torch.Size([10, 1])). This will likely lead to incorrect results due to broadcasting. Please ensure they have the same size.\n",
      "  return F.mse_loss(input, target, reduction=self.reduction)\n",
      "C:\\Users\\shrey\\AppData\\Local\\Programs\\PythonCodingPack\\lib\\site-packages\\torch\\nn\\modules\\loss.py:520: UserWarning: Using a target size (torch.Size([15])) that is different to the input size (torch.Size([15, 1])). This will likely lead to incorrect results due to broadcasting. Please ensure they have the same size.\n",
      "  return F.mse_loss(input, target, reduction=self.reduction)\n"
     ]
    },
    {
     "name": "stdout",
     "output_type": "stream",
     "text": [
      "epoch : 0 train_loss : 163.75170885512702, val_loss: 121.36772235234578\n",
      "epoch : 1 train_loss : 13.000270454036562, val_loss: 183.51815009117126\n",
      "epoch : 2 train_loss : 12.894079287428605, val_loss: 195.44870003064474\n",
      "epoch : 3 train_loss : 12.014087111306818, val_loss: 202.0718244711558\n",
      "epoch : 4 train_loss : 11.380083667526119, val_loss: 207.92313090960184\n",
      "epoch : 5 train_loss : 10.954353064573125, val_loss: 217.50451175371805\n",
      "epoch : 6 train_loss : 10.645597971505241, val_loss: 223.93267440795898\n",
      "epoch : 7 train_loss : 10.372781022912578, val_loss: 228.76323819160461\n",
      "epoch : 8 train_loss : 10.152527604997157, val_loss: 230.84970200061798\n",
      "epoch : 9 train_loss : 10.04965456320267, val_loss: 236.7414823373159\n",
      "epoch : 10 train_loss : 9.929014297535545, val_loss: 239.41670668125153\n",
      "epoch : 11 train_loss : 9.830043258282698, val_loss: 240.16070691744486\n",
      "epoch : 12 train_loss : 9.762047254333371, val_loss: 242.0487457116445\n",
      "epoch : 13 train_loss : 9.698430672758503, val_loss: 243.32239170869192\n",
      "epoch : 14 train_loss : 9.635699583903738, val_loss: 243.4007362127304\n",
      "epoch : 15 train_loss : 9.587085096773349, val_loss: 243.97226508458456\n",
      "epoch : 16 train_loss : 9.532976278035264, val_loss: 243.35604679584503\n",
      "epoch : 17 train_loss : 9.48906170043506, val_loss: 243.5546314318975\n",
      "epoch : 18 train_loss : 9.442929481597323, val_loss: 242.94211991628012\n",
      "epoch : 19 train_loss : 9.4020786578718, val_loss: 242.6565000216166\n",
      "epoch : 20 train_loss : 9.351286415363614, val_loss: 241.26253124078116\n",
      "epoch : 21 train_loss : 9.318722002992505, val_loss: 241.58995834986368\n",
      "epoch : 22 train_loss : 9.27476853187147, val_loss: 240.16286957263947\n",
      "epoch : 23 train_loss : 9.234160678402374, val_loss: 239.21918245156607\n",
      "epoch : 24 train_loss : 9.196764213631027, val_loss: 238.42988046010336\n",
      "epoch : 25 train_loss : 9.161772755180534, val_loss: 237.71437708536783\n",
      "epoch : 26 train_loss : 9.124760210592497, val_loss: 236.47748911380768\n",
      "epoch : 27 train_loss : 9.089620277207148, val_loss: 235.33881322542825\n",
      "epoch : 28 train_loss : 9.052122562496285, val_loss: 234.00097711881003\n",
      "epoch : 29 train_loss : 9.023580788154351, val_loss: 233.576252023379\n",
      "epoch : 30 train_loss : 8.985606283890574, val_loss: 232.00918765862784\n",
      "epoch : 31 train_loss : 8.960221624531243, val_loss: 231.32348132133484\n",
      "epoch : 32 train_loss : 8.919820745054045, val_loss: 229.63236065705618\n",
      "epoch : 33 train_loss : 8.894804671877308, val_loss: 228.8976663351059\n",
      "epoch : 34 train_loss : 8.859232501764046, val_loss: 227.3947458664576\n",
      "epoch : 35 train_loss : 8.833701330109646, val_loss: 226.70642491181692\n",
      "epoch : 36 train_loss : 8.799290172363582, val_loss: 225.43914930025736\n",
      "epoch : 37 train_loss : 8.764009519784073, val_loss: 224.22262585163116\n",
      "epoch : 38 train_loss : 8.745488763169238, val_loss: 223.53392632802328\n",
      "epoch : 39 train_loss : 8.706809273519013, val_loss: 222.14268843332925\n",
      "epoch : 40 train_loss : 8.698487276779979, val_loss: 222.13651577631632\n",
      "epoch : 41 train_loss : 8.65163100863758, val_loss: 220.34711980819702\n",
      "epoch : 42 train_loss : 8.644303565903714, val_loss: 220.5305416981379\n",
      "epoch : 43 train_loss : 8.602374937032398, val_loss: 219.05120738347372\n",
      "epoch : 44 train_loss : 8.60062831295164, val_loss: 219.48229018847147\n",
      "epoch : 45 train_loss : 8.551742274353378, val_loss: 217.65979544321695\n",
      "epoch : 46 train_loss : 8.539388374435275, val_loss: 217.7335954507192\n",
      "epoch : 47 train_loss : 8.519341472889248, val_loss: 217.48388799031576\n",
      "epoch : 48 train_loss : 8.520327920819584, val_loss: 218.30361092090607\n",
      "epoch : 49 train_loss : 8.470813389044059, val_loss: 217.07510097821554\n",
      "epoch : 50 train_loss : 8.460940714102042, val_loss: 217.1859305302302\n",
      "epoch : 51 train_loss : 8.434335040418725, val_loss: 216.7180673678716\n",
      "epoch : 52 train_loss : 8.416334209002947, val_loss: 216.7116980155309\n",
      "epoch : 53 train_loss : 8.411065653907626, val_loss: 217.21268220742544\n",
      "epoch : 54 train_loss : 8.366783303649802, val_loss: 215.84987982114157\n",
      "epoch : 55 train_loss : 8.370387335670621, val_loss: 216.82361515363058\n",
      "epoch : 56 train_loss : 8.328857298430643, val_loss: 215.52330573399863\n",
      "epoch : 57 train_loss : 8.336111475135151, val_loss: 216.58716026941934\n",
      "epoch : 58 train_loss : 8.307004301014699, val_loss: 216.13239149252573\n",
      "epoch : 59 train_loss : 8.310903662443161, val_loss: 216.76346071561179\n",
      "epoch : 60 train_loss : 8.264488934843163, val_loss: 215.76924415429434\n",
      "epoch : 61 train_loss : 8.288711816229318, val_loss: 217.00555328528085\n",
      "epoch : 62 train_loss : 8.23938216551354, val_loss: 215.70254039764404\n",
      "epoch : 63 train_loss : 8.239292881520171, val_loss: 216.23107226689658\n",
      "epoch : 64 train_loss : 8.243285324699, val_loss: 217.05563847223917\n",
      "epoch : 65 train_loss : 8.197425467560166, val_loss: 215.98842414220175\n",
      "epoch : 66 train_loss : 8.223747830171334, val_loss: 217.2339768409729\n",
      "epoch : 67 train_loss : 8.161260745713586, val_loss: 215.75850570201874\n",
      "epoch : 68 train_loss : 8.201108099441779, val_loss: 217.71607418855032\n",
      "epoch : 69 train_loss : 8.148419953961122, val_loss: 216.4014763434728\n",
      "epoch : 70 train_loss : 8.155082100629807, val_loss: 216.99406683444977\n",
      "epoch : 71 train_loss : 8.12218896425084, val_loss: 216.43977677822113\n",
      "epoch : 72 train_loss : 8.145097679684037, val_loss: 217.63063657283783\n",
      "epoch : 73 train_loss : 8.07220720884047, val_loss: 215.62478669484457\n",
      "epoch : 74 train_loss : 8.093747694555082, val_loss: 216.33289019266763\n",
      "epoch : 75 train_loss : 8.074156708309525, val_loss: 216.18159898122153\n",
      "epoch : 76 train_loss : 8.083125547829427, val_loss: 216.70585584640503\n",
      "epoch : 77 train_loss : 8.049596024500696, val_loss: 216.14862668514252\n",
      "epoch : 78 train_loss : 8.036477228999138, val_loss: 215.9913753271103\n",
      "epoch : 79 train_loss : 8.025802550347228, val_loss: 215.91031074523926\n",
      "epoch : 80 train_loss : 8.01692624594036, val_loss: 216.0876335700353\n",
      "epoch : 81 train_loss : 8.009634934601031, val_loss: 215.9668940703074\n",
      "epoch : 82 train_loss : 7.974851278882277, val_loss: 215.01241532961527\n",
      "epoch : 83 train_loss : 7.988212530863913, val_loss: 215.72901590665182\n",
      "epoch : 84 train_loss : 7.966466607545551, val_loss: 215.14330911636353\n",
      "epoch : 85 train_loss : 7.966837264675843, val_loss: 215.36034421126047\n",
      "epoch : 86 train_loss : 7.944597895678721, val_loss: 215.1085777680079\n",
      "epoch : 87 train_loss : 7.946066571536817, val_loss: 215.18238552411398\n",
      "epoch : 88 train_loss : 7.928994920536091, val_loss: 214.94236679871878\n",
      "epoch : 89 train_loss : 7.929976823455409, val_loss: 215.37342194716135\n",
      "epoch : 90 train_loss : 7.905625990190004, val_loss: 214.7771946589152\n",
      "epoch : 91 train_loss : 7.903277309474192, val_loss: 214.96301146348318\n",
      "epoch : 92 train_loss : 7.892156194228875, val_loss: 214.91042053699493\n",
      "epoch : 93 train_loss : 7.88234930540386, val_loss: 214.72694512208304\n",
      "epoch : 94 train_loss : 7.87309562485469, val_loss: 214.63990622758865\n",
      "epoch : 95 train_loss : 7.86508576611155, val_loss: 214.6794697443644\n",
      "epoch : 96 train_loss : 7.853189402191263, val_loss: 214.44894214471182\n",
      "epoch : 97 train_loss : 7.841297886167702, val_loss: 214.30988027652106\n",
      "epoch : 98 train_loss : 7.837535197719148, val_loss: 214.49616640806198\n",
      "epoch : 99 train_loss : 7.819259652652239, val_loss: 213.9917834599813\n"
     ]
    },
    {
     "ename": "RuntimeError",
     "evalue": "Can't call numpy() on Tensor that requires grad. Use tensor.detach().numpy() instead.",
     "output_type": "error",
     "traceback": [
      "\u001b[1;31m---------------------------------------------------------------------------\u001b[0m",
      "\u001b[1;31mRuntimeError\u001b[0m                              Traceback (most recent call last)",
      "\u001b[1;32m<ipython-input-3-d004ed473e31>\u001b[0m in \u001b[0;36m<module>\u001b[1;34m\u001b[0m\n\u001b[0;32m      1\u001b[0m \u001b[0mX_train\u001b[0m\u001b[1;33m,\u001b[0m \u001b[0mX_test\u001b[0m\u001b[1;33m,\u001b[0m \u001b[0my_train\u001b[0m\u001b[1;33m,\u001b[0m \u001b[0my_test\u001b[0m\u001b[1;33m,\u001b[0m\u001b[0mtest_date\u001b[0m \u001b[1;33m=\u001b[0m \u001b[0mtest_train_splitting_scaling\u001b[0m\u001b[1;33m(\u001b[0m\u001b[0mnew_aapl_dataset_1\u001b[0m\u001b[1;33m)\u001b[0m\u001b[1;33m\u001b[0m\u001b[1;33m\u001b[0m\u001b[0m\n\u001b[0;32m      2\u001b[0m \u001b[1;33m\u001b[0m\u001b[0m\n\u001b[1;32m----> 3\u001b[1;33m \u001b[0mNeuralNetwork\u001b[0m\u001b[1;33m(\u001b[0m\u001b[1;34m'AAPL'\u001b[0m\u001b[1;33m,\u001b[0m\u001b[0mX_train\u001b[0m\u001b[1;33m,\u001b[0m \u001b[0my_train\u001b[0m\u001b[1;33m,\u001b[0m \u001b[0mX_test\u001b[0m\u001b[1;33m,\u001b[0m \u001b[0my_test\u001b[0m\u001b[1;33m,\u001b[0m\u001b[0mtest_date\u001b[0m\u001b[1;33m)\u001b[0m\u001b[1;33m\u001b[0m\u001b[1;33m\u001b[0m\u001b[0m\n\u001b[0m",
      "\u001b[1;32md:\\UPenn\\Fall 2021\\CIS 520\\Final Project\\cis520-stock-price\\cis520-stock-price\\models.py\u001b[0m in \u001b[0;36mNeuralNetwork\u001b[1;34m(ticker, X_train, y_train, X_test, y_test, test_date)\u001b[0m\n\u001b[0;32m    205\u001b[0m     \u001b[0mplt\u001b[0m\u001b[1;33m.\u001b[0m\u001b[0mplot\u001b[0m\u001b[1;33m(\u001b[0m\u001b[0mtest_date\u001b[0m\u001b[1;33m,\u001b[0m\u001b[0my_pred\u001b[0m\u001b[1;33m.\u001b[0m\u001b[0mdetach\u001b[0m\u001b[1;33m(\u001b[0m\u001b[1;33m)\u001b[0m\u001b[1;33m.\u001b[0m\u001b[0mnumpy\u001b[0m\u001b[1;33m(\u001b[0m\u001b[1;33m)\u001b[0m\u001b[1;33m,\u001b[0m\u001b[0mcolor\u001b[0m\u001b[1;33m=\u001b[0m\u001b[1;34m'red'\u001b[0m\u001b[1;33m)\u001b[0m\u001b[1;33m\u001b[0m\u001b[1;33m\u001b[0m\u001b[0m\n\u001b[0;32m    206\u001b[0m \u001b[1;33m\u001b[0m\u001b[0m\n\u001b[1;32m--> 207\u001b[1;33m     \u001b[0mMAE\u001b[0m\u001b[1;33m,\u001b[0m \u001b[0mRMSE\u001b[0m\u001b[1;33m,\u001b[0m \u001b[0mR2\u001b[0m \u001b[1;33m=\u001b[0m \u001b[0mcompute_metrics\u001b[0m\u001b[1;33m(\u001b[0m\u001b[0my_test\u001b[0m\u001b[1;33m,\u001b[0m\u001b[0my_pred\u001b[0m\u001b[1;33m)\u001b[0m\u001b[1;33m\u001b[0m\u001b[1;33m\u001b[0m\u001b[0m\n\u001b[0m\u001b[0;32m    208\u001b[0m \u001b[1;33m\u001b[0m\u001b[0m\n\u001b[0;32m    209\u001b[0m     \u001b[1;32mif\u001b[0m \u001b[0mticker\u001b[0m \u001b[1;33m==\u001b[0m \u001b[1;34m'AAPL'\u001b[0m\u001b[1;33m:\u001b[0m\u001b[1;33m\u001b[0m\u001b[1;33m\u001b[0m\u001b[0m\n",
      "\u001b[1;32md:\\UPenn\\Fall 2021\\CIS 520\\Final Project\\cis520-stock-price\\cis520-stock-price\\models.py\u001b[0m in \u001b[0;36mcompute_metrics\u001b[1;34m(y_test, y_pred)\u001b[0m\n\u001b[0;32m     79\u001b[0m \u001b[1;33m\u001b[0m\u001b[0m\n\u001b[0;32m     80\u001b[0m \u001b[1;32mdef\u001b[0m \u001b[0mcompute_metrics\u001b[0m\u001b[1;33m(\u001b[0m\u001b[0my_test\u001b[0m\u001b[1;33m,\u001b[0m \u001b[0my_pred\u001b[0m\u001b[1;33m)\u001b[0m\u001b[1;33m:\u001b[0m\u001b[1;33m\u001b[0m\u001b[1;33m\u001b[0m\u001b[0m\n\u001b[1;32m---> 81\u001b[1;33m     \u001b[0mMAE\u001b[0m \u001b[1;33m=\u001b[0m \u001b[0mmetrics\u001b[0m\u001b[1;33m.\u001b[0m\u001b[0mmean_absolute_error\u001b[0m\u001b[1;33m(\u001b[0m\u001b[0my_test\u001b[0m\u001b[1;33m,\u001b[0m \u001b[0my_pred\u001b[0m\u001b[1;33m)\u001b[0m\u001b[1;33m\u001b[0m\u001b[1;33m\u001b[0m\u001b[0m\n\u001b[0m\u001b[0;32m     82\u001b[0m     \u001b[0mRMSE\u001b[0m \u001b[1;33m=\u001b[0m \u001b[0mmath\u001b[0m\u001b[1;33m.\u001b[0m\u001b[0msqrt\u001b[0m\u001b[1;33m(\u001b[0m\u001b[0mmetrics\u001b[0m\u001b[1;33m.\u001b[0m\u001b[0mmean_squared_error\u001b[0m\u001b[1;33m(\u001b[0m\u001b[0my_test\u001b[0m\u001b[1;33m,\u001b[0m \u001b[0my_pred\u001b[0m\u001b[1;33m)\u001b[0m\u001b[1;33m)\u001b[0m\u001b[1;33m\u001b[0m\u001b[1;33m\u001b[0m\u001b[0m\n\u001b[0;32m     83\u001b[0m     \u001b[0mR2\u001b[0m \u001b[1;33m=\u001b[0m \u001b[0mr2_score\u001b[0m\u001b[1;33m(\u001b[0m\u001b[0my_test\u001b[0m\u001b[1;33m,\u001b[0m \u001b[0my_pred\u001b[0m\u001b[1;33m)\u001b[0m\u001b[1;33m\u001b[0m\u001b[1;33m\u001b[0m\u001b[0m\n",
      "\u001b[1;32m~\\AppData\\Local\\Programs\\PythonCodingPack\\lib\\site-packages\\sklearn\\utils\\validation.py\u001b[0m in \u001b[0;36minner_f\u001b[1;34m(*args, **kwargs)\u001b[0m\n\u001b[0;32m     70\u001b[0m                           FutureWarning)\n\u001b[0;32m     71\u001b[0m         \u001b[0mkwargs\u001b[0m\u001b[1;33m.\u001b[0m\u001b[0mupdate\u001b[0m\u001b[1;33m(\u001b[0m\u001b[1;33m{\u001b[0m\u001b[0mk\u001b[0m\u001b[1;33m:\u001b[0m \u001b[0marg\u001b[0m \u001b[1;32mfor\u001b[0m \u001b[0mk\u001b[0m\u001b[1;33m,\u001b[0m \u001b[0marg\u001b[0m \u001b[1;32min\u001b[0m \u001b[0mzip\u001b[0m\u001b[1;33m(\u001b[0m\u001b[0msig\u001b[0m\u001b[1;33m.\u001b[0m\u001b[0mparameters\u001b[0m\u001b[1;33m,\u001b[0m \u001b[0margs\u001b[0m\u001b[1;33m)\u001b[0m\u001b[1;33m}\u001b[0m\u001b[1;33m)\u001b[0m\u001b[1;33m\u001b[0m\u001b[1;33m\u001b[0m\u001b[0m\n\u001b[1;32m---> 72\u001b[1;33m         \u001b[1;32mreturn\u001b[0m \u001b[0mf\u001b[0m\u001b[1;33m(\u001b[0m\u001b[1;33m**\u001b[0m\u001b[0mkwargs\u001b[0m\u001b[1;33m)\u001b[0m\u001b[1;33m\u001b[0m\u001b[1;33m\u001b[0m\u001b[0m\n\u001b[0m\u001b[0;32m     73\u001b[0m     \u001b[1;32mreturn\u001b[0m \u001b[0minner_f\u001b[0m\u001b[1;33m\u001b[0m\u001b[1;33m\u001b[0m\u001b[0m\n\u001b[0;32m     74\u001b[0m \u001b[1;33m\u001b[0m\u001b[0m\n",
      "\u001b[1;32m~\\AppData\\Local\\Programs\\PythonCodingPack\\lib\\site-packages\\sklearn\\metrics\\_regression.py\u001b[0m in \u001b[0;36mmean_absolute_error\u001b[1;34m(y_true, y_pred, sample_weight, multioutput)\u001b[0m\n\u001b[0;32m    176\u001b[0m     \u001b[1;36m0.85\u001b[0m\u001b[1;33m...\u001b[0m\u001b[1;33m\u001b[0m\u001b[1;33m\u001b[0m\u001b[0m\n\u001b[0;32m    177\u001b[0m     \"\"\"\n\u001b[1;32m--> 178\u001b[1;33m     y_type, y_true, y_pred, multioutput = _check_reg_targets(\n\u001b[0m\u001b[0;32m    179\u001b[0m         y_true, y_pred, multioutput)\n\u001b[0;32m    180\u001b[0m     \u001b[0mcheck_consistent_length\u001b[0m\u001b[1;33m(\u001b[0m\u001b[0my_true\u001b[0m\u001b[1;33m,\u001b[0m \u001b[0my_pred\u001b[0m\u001b[1;33m,\u001b[0m \u001b[0msample_weight\u001b[0m\u001b[1;33m)\u001b[0m\u001b[1;33m\u001b[0m\u001b[1;33m\u001b[0m\u001b[0m\n",
      "\u001b[1;32m~\\AppData\\Local\\Programs\\PythonCodingPack\\lib\\site-packages\\sklearn\\metrics\\_regression.py\u001b[0m in \u001b[0;36m_check_reg_targets\u001b[1;34m(y_true, y_pred, multioutput, dtype)\u001b[0m\n\u001b[0;32m     84\u001b[0m     \u001b[0mcheck_consistent_length\u001b[0m\u001b[1;33m(\u001b[0m\u001b[0my_true\u001b[0m\u001b[1;33m,\u001b[0m \u001b[0my_pred\u001b[0m\u001b[1;33m)\u001b[0m\u001b[1;33m\u001b[0m\u001b[1;33m\u001b[0m\u001b[0m\n\u001b[0;32m     85\u001b[0m     \u001b[0my_true\u001b[0m \u001b[1;33m=\u001b[0m \u001b[0mcheck_array\u001b[0m\u001b[1;33m(\u001b[0m\u001b[0my_true\u001b[0m\u001b[1;33m,\u001b[0m \u001b[0mensure_2d\u001b[0m\u001b[1;33m=\u001b[0m\u001b[1;32mFalse\u001b[0m\u001b[1;33m,\u001b[0m \u001b[0mdtype\u001b[0m\u001b[1;33m=\u001b[0m\u001b[0mdtype\u001b[0m\u001b[1;33m)\u001b[0m\u001b[1;33m\u001b[0m\u001b[1;33m\u001b[0m\u001b[0m\n\u001b[1;32m---> 86\u001b[1;33m     \u001b[0my_pred\u001b[0m \u001b[1;33m=\u001b[0m \u001b[0mcheck_array\u001b[0m\u001b[1;33m(\u001b[0m\u001b[0my_pred\u001b[0m\u001b[1;33m,\u001b[0m \u001b[0mensure_2d\u001b[0m\u001b[1;33m=\u001b[0m\u001b[1;32mFalse\u001b[0m\u001b[1;33m,\u001b[0m \u001b[0mdtype\u001b[0m\u001b[1;33m=\u001b[0m\u001b[0mdtype\u001b[0m\u001b[1;33m)\u001b[0m\u001b[1;33m\u001b[0m\u001b[1;33m\u001b[0m\u001b[0m\n\u001b[0m\u001b[0;32m     87\u001b[0m \u001b[1;33m\u001b[0m\u001b[0m\n\u001b[0;32m     88\u001b[0m     \u001b[1;32mif\u001b[0m \u001b[0my_true\u001b[0m\u001b[1;33m.\u001b[0m\u001b[0mndim\u001b[0m \u001b[1;33m==\u001b[0m \u001b[1;36m1\u001b[0m\u001b[1;33m:\u001b[0m\u001b[1;33m\u001b[0m\u001b[1;33m\u001b[0m\u001b[0m\n",
      "\u001b[1;32m~\\AppData\\Local\\Programs\\PythonCodingPack\\lib\\site-packages\\sklearn\\utils\\validation.py\u001b[0m in \u001b[0;36minner_f\u001b[1;34m(*args, **kwargs)\u001b[0m\n\u001b[0;32m     70\u001b[0m                           FutureWarning)\n\u001b[0;32m     71\u001b[0m         \u001b[0mkwargs\u001b[0m\u001b[1;33m.\u001b[0m\u001b[0mupdate\u001b[0m\u001b[1;33m(\u001b[0m\u001b[1;33m{\u001b[0m\u001b[0mk\u001b[0m\u001b[1;33m:\u001b[0m \u001b[0marg\u001b[0m \u001b[1;32mfor\u001b[0m \u001b[0mk\u001b[0m\u001b[1;33m,\u001b[0m \u001b[0marg\u001b[0m \u001b[1;32min\u001b[0m \u001b[0mzip\u001b[0m\u001b[1;33m(\u001b[0m\u001b[0msig\u001b[0m\u001b[1;33m.\u001b[0m\u001b[0mparameters\u001b[0m\u001b[1;33m,\u001b[0m \u001b[0margs\u001b[0m\u001b[1;33m)\u001b[0m\u001b[1;33m}\u001b[0m\u001b[1;33m)\u001b[0m\u001b[1;33m\u001b[0m\u001b[1;33m\u001b[0m\u001b[0m\n\u001b[1;32m---> 72\u001b[1;33m         \u001b[1;32mreturn\u001b[0m \u001b[0mf\u001b[0m\u001b[1;33m(\u001b[0m\u001b[1;33m**\u001b[0m\u001b[0mkwargs\u001b[0m\u001b[1;33m)\u001b[0m\u001b[1;33m\u001b[0m\u001b[1;33m\u001b[0m\u001b[0m\n\u001b[0m\u001b[0;32m     73\u001b[0m     \u001b[1;32mreturn\u001b[0m \u001b[0minner_f\u001b[0m\u001b[1;33m\u001b[0m\u001b[1;33m\u001b[0m\u001b[0m\n\u001b[0;32m     74\u001b[0m \u001b[1;33m\u001b[0m\u001b[0m\n",
      "\u001b[1;32m~\\AppData\\Local\\Programs\\PythonCodingPack\\lib\\site-packages\\sklearn\\utils\\validation.py\u001b[0m in \u001b[0;36mcheck_array\u001b[1;34m(array, accept_sparse, accept_large_sparse, dtype, order, copy, force_all_finite, ensure_2d, allow_nd, ensure_min_samples, ensure_min_features, estimator)\u001b[0m\n\u001b[0;32m    596\u001b[0m                     \u001b[0marray\u001b[0m \u001b[1;33m=\u001b[0m \u001b[0marray\u001b[0m\u001b[1;33m.\u001b[0m\u001b[0mastype\u001b[0m\u001b[1;33m(\u001b[0m\u001b[0mdtype\u001b[0m\u001b[1;33m,\u001b[0m \u001b[0mcasting\u001b[0m\u001b[1;33m=\u001b[0m\u001b[1;34m\"unsafe\"\u001b[0m\u001b[1;33m,\u001b[0m \u001b[0mcopy\u001b[0m\u001b[1;33m=\u001b[0m\u001b[1;32mFalse\u001b[0m\u001b[1;33m)\u001b[0m\u001b[1;33m\u001b[0m\u001b[1;33m\u001b[0m\u001b[0m\n\u001b[0;32m    597\u001b[0m                 \u001b[1;32melse\u001b[0m\u001b[1;33m:\u001b[0m\u001b[1;33m\u001b[0m\u001b[1;33m\u001b[0m\u001b[0m\n\u001b[1;32m--> 598\u001b[1;33m                     \u001b[0marray\u001b[0m \u001b[1;33m=\u001b[0m \u001b[0mnp\u001b[0m\u001b[1;33m.\u001b[0m\u001b[0masarray\u001b[0m\u001b[1;33m(\u001b[0m\u001b[0marray\u001b[0m\u001b[1;33m,\u001b[0m \u001b[0morder\u001b[0m\u001b[1;33m=\u001b[0m\u001b[0morder\u001b[0m\u001b[1;33m,\u001b[0m \u001b[0mdtype\u001b[0m\u001b[1;33m=\u001b[0m\u001b[0mdtype\u001b[0m\u001b[1;33m)\u001b[0m\u001b[1;33m\u001b[0m\u001b[1;33m\u001b[0m\u001b[0m\n\u001b[0m\u001b[0;32m    599\u001b[0m             \u001b[1;32mexcept\u001b[0m \u001b[0mComplexWarning\u001b[0m\u001b[1;33m:\u001b[0m\u001b[1;33m\u001b[0m\u001b[1;33m\u001b[0m\u001b[0m\n\u001b[0;32m    600\u001b[0m                 raise ValueError(\"Complex data not supported\\n\"\n",
      "\u001b[1;32m~\\AppData\\Local\\Programs\\PythonCodingPack\\lib\\site-packages\\torch\\_tensor.py\u001b[0m in \u001b[0;36m__array__\u001b[1;34m(self, dtype)\u001b[0m\n\u001b[0;32m    676\u001b[0m             \u001b[1;32mreturn\u001b[0m \u001b[0mhandle_torch_function\u001b[0m\u001b[1;33m(\u001b[0m\u001b[0mTensor\u001b[0m\u001b[1;33m.\u001b[0m\u001b[0m__array__\u001b[0m\u001b[1;33m,\u001b[0m \u001b[1;33m(\u001b[0m\u001b[0mself\u001b[0m\u001b[1;33m,\u001b[0m\u001b[1;33m)\u001b[0m\u001b[1;33m,\u001b[0m \u001b[0mself\u001b[0m\u001b[1;33m,\u001b[0m \u001b[0mdtype\u001b[0m\u001b[1;33m=\u001b[0m\u001b[0mdtype\u001b[0m\u001b[1;33m)\u001b[0m\u001b[1;33m\u001b[0m\u001b[1;33m\u001b[0m\u001b[0m\n\u001b[0;32m    677\u001b[0m         \u001b[1;32mif\u001b[0m \u001b[0mdtype\u001b[0m \u001b[1;32mis\u001b[0m \u001b[1;32mNone\u001b[0m\u001b[1;33m:\u001b[0m\u001b[1;33m\u001b[0m\u001b[1;33m\u001b[0m\u001b[0m\n\u001b[1;32m--> 678\u001b[1;33m             \u001b[1;32mreturn\u001b[0m \u001b[0mself\u001b[0m\u001b[1;33m.\u001b[0m\u001b[0mnumpy\u001b[0m\u001b[1;33m(\u001b[0m\u001b[1;33m)\u001b[0m\u001b[1;33m\u001b[0m\u001b[1;33m\u001b[0m\u001b[0m\n\u001b[0m\u001b[0;32m    679\u001b[0m         \u001b[1;32melse\u001b[0m\u001b[1;33m:\u001b[0m\u001b[1;33m\u001b[0m\u001b[1;33m\u001b[0m\u001b[0m\n\u001b[0;32m    680\u001b[0m             \u001b[1;32mreturn\u001b[0m \u001b[0mself\u001b[0m\u001b[1;33m.\u001b[0m\u001b[0mnumpy\u001b[0m\u001b[1;33m(\u001b[0m\u001b[1;33m)\u001b[0m\u001b[1;33m.\u001b[0m\u001b[0mastype\u001b[0m\u001b[1;33m(\u001b[0m\u001b[0mdtype\u001b[0m\u001b[1;33m,\u001b[0m \u001b[0mcopy\u001b[0m\u001b[1;33m=\u001b[0m\u001b[1;32mFalse\u001b[0m\u001b[1;33m)\u001b[0m\u001b[1;33m\u001b[0m\u001b[1;33m\u001b[0m\u001b[0m\n",
      "\u001b[1;31mRuntimeError\u001b[0m: Can't call numpy() on Tensor that requires grad. Use tensor.detach().numpy() instead."
     ]
    },
    {
     "data": {
      "image/png": "[encoded data removed]",
      "text/plain": [
       "<Figure size 432x288 with 1 Axes>"
      ]
     },
     "metadata": {
      "needs_background": "light"
     },
     "output_type": "display_data"
    }
   ],
   "source": [
    "X_train, X_test, y_train, y_test,test_date = test_train_splitting_scaling(new_aapl_dataset_1)\n",
    "\n",
    "NeuralNetwork('AAPL',X_train, y_train, X_test, y_test,test_date)"
   ]
  },
  {
   "cell_type": "code",
   "execution_count": null,
   "metadata": {},
   "outputs": [],
   "source": []
  }
 ],
 "metadata": {
  "interpreter": {
   "hash": "383d302008af41c4300f1e390d5c4ee80be90c6d0e8a2a7de00c41d9d3a98235"
  },
  "kernelspec": {
   "display_name": "Python 3.8.5 64-bit",
   "language": "python",
   "name": "python3"
  },
  "language_info": {
   "codemirror_mode": {
    "name": "ipython",
    "version": 3
   },
   "file_extension": ".py",
   "mimetype": "text/x-python",
   "name": "python",
   "nbconvert_exporter": "python",
   "pygments_lexer": "ipython3",
   "version": "3.8.5"
  },
  "orig_nbformat": 4
 },
 "nbformat": 4,
 "nbformat_minor": 2
}
